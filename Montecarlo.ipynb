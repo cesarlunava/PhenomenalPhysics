{
 "cells": [
  {
   "cell_type": "code",
   "execution_count": 12,
   "id": "ae5f32d5-cdf9-47a1-aec0-74322ef3a0fa",
   "metadata": {},
   "outputs": [
    {
     "name": "stdout",
     "output_type": "stream",
     "text": [
      "Estimated Pi: 3.1376\n",
      "Error percentage: 0.28034654334141285 %\n"
     ]
    }
   ],
   "source": [
    "import random\n",
    "import math\n",
    "\n",
    "#variables for total samples of particles and particules inside(agujas)\n",
    "num_samples = 5000\n",
    "inside_circle = 0\n",
    "\n",
    "#Crea el cuadrado unitario\n",
    "for i in range(num_samples):\n",
    "    x= random.uniform(-1,1)\n",
    "    y= random.uniform(-1,1)\n",
    "#Define el perímetro del círculo unitario dentro del cuadrado Y si ___ es menor, el numero de particulas dentro aumenta\n",
    "    if x**2 + y**2 <= 1:\n",
    "        inside_circle += 1\n",
    "\n",
    "error_percentage = abs(math.pi - pi_estimate) / math.pi * 100\n",
    "\n",
    "#Calcula el pi(aprox), multiplicando el área del cuadrdo por las partículas dentro del círculo, despues, entre el número total de partículas \n",
    "\"\"\"pi_estimate = 4 * inside_circle / num_samples\n",
    "print(f\"Estimated Pi: {pi_estimate}\")\"\"\"\n",
    "print(f\"Error percentage: {error_percentage} %\")"
   ]
  },
  {
   "cell_type": "code",
   "execution_count": null,
   "id": "ed4b11ce-61c0-426f-ab94-a747b4735bc8",
   "metadata": {},
   "outputs": [],
   "source": []
  }
 ],
 "metadata": {
  "kernelspec": {
   "display_name": "Python [conda env:base] *",
   "language": "python",
   "name": "conda-base-py"
  },
  "language_info": {
   "codemirror_mode": {
    "name": "ipython",
    "version": 3
   },
   "file_extension": ".py",
   "mimetype": "text/x-python",
   "name": "python",
   "nbconvert_exporter": "python",
   "pygments_lexer": "ipython3",
   "version": "3.12.7"
  }
 },
 "nbformat": 4,
 "nbformat_minor": 5
}
