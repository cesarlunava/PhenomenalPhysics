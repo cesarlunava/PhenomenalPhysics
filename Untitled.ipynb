{
 "cells": [
  {
   "cell_type": "code",
   "execution_count": 31,
   "id": "61992b40-db78-4dc2-a676-9c7caeba4a89",
   "metadata": {},
   "outputs": [
    {
     "name": "stdin",
     "output_type": "stream",
     "text": [
      "Adivina el número que estoy pensando: 55\n"
     ]
    },
    {
     "name": "stdout",
     "output_type": "stream",
     "text": [
      "Más arriba\n"
     ]
    },
    {
     "name": "stdin",
     "output_type": "stream",
     "text": [
      "Adivina el numero que estoy pensando 75\n"
     ]
    },
    {
     "name": "stdout",
     "output_type": "stream",
     "text": [
      "un poco mas arriba\n"
     ]
    },
    {
     "name": "stdin",
     "output_type": "stream",
     "text": [
      "Adivina el numero que estoy pensando 79\n"
     ]
    },
    {
     "name": "stdout",
     "output_type": "stream",
     "text": [
      "un poco mas arriba\n"
     ]
    },
    {
     "name": "stdin",
     "output_type": "stream",
     "text": [
      "Adivina el numero que estoy pensando 82\n"
     ]
    },
    {
     "name": "stdout",
     "output_type": "stream",
     "text": [
      "un poco mas abajo\n"
     ]
    },
    {
     "name": "stdin",
     "output_type": "stream",
     "text": [
      "Adivina el numero que estoy pensando 82\n"
     ]
    },
    {
     "name": "stdout",
     "output_type": "stream",
     "text": [
      "un poco mas abajo\n"
     ]
    },
    {
     "name": "stdin",
     "output_type": "stream",
     "text": [
      "Adivina el numero que estoy pensando 80\n"
     ]
    },
    {
     "name": "stdout",
     "output_type": "stream",
     "text": [
      "Acertaste\n"
     ]
    }
   ],
   "source": [
    "#set del juego\n",
    "import random\n",
    "secret_number = random.randint(1, 100)\n",
    "guess= int(input(\"Adivina el número que estoy pensando:\"))\n",
    "attempts= 0\n",
    "\n",
    "#Respuestas de la computadora\n",
    "if guess == secret_number:\n",
    "    print(\"Acertaste\")\n",
    "elif guess > secret_number:\n",
    "    print(\"Más abajo\")\n",
    "elif guess < secret_number:\n",
    "    print(\"Más arriba\")\n",
    "\n",
    "#Loop para que siga corriendo el juego\n",
    "while guess != secret_number:\n",
    "    guess = int(input(\"Adivina el numero que estoy pensando\"))\n",
    "    if  secret_number < guess < secret_number+ 10:\n",
    "        print(\"un poco mas abajo\")\n",
    "    elif secret_number > guess > secret_number- 10:\n",
    "        print(\"un poco mas arriba\")\n",
    "    elif guess > secret_number:\n",
    "        print(\"Más abajo\")\n",
    "    elif guess < secret_number:\n",
    "        print(\"Más arriba\")\n",
    "    elif guess == secret_number:\n",
    "        print(\"Acertaste\")"
   ]
  },
  {
   "cell_type": "code",
   "execution_count": null,
   "id": "93a87cb6-9a09-43b7-b3d4-060cab56744c",
   "metadata": {},
   "outputs": [],
   "source": []
  },
  {
   "cell_type": "code",
   "execution_count": null,
   "id": "9e3194fa-ea5d-4a47-9fb1-9fa6544daa59",
   "metadata": {},
   "outputs": [],
   "source": []
  }
 ],
 "metadata": {
  "kernelspec": {
   "display_name": "Python [conda env:base] *",
   "language": "python",
   "name": "conda-base-py"
  },
  "language_info": {
   "codemirror_mode": {
    "name": "ipython",
    "version": 3
   },
   "file_extension": ".py",
   "mimetype": "text/x-python",
   "name": "python",
   "nbconvert_exporter": "python",
   "pygments_lexer": "ipython3",
   "version": "3.12.7"
  }
 },
 "nbformat": 4,
 "nbformat_minor": 5
}
